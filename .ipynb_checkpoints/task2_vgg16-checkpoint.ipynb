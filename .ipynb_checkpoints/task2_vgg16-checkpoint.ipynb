{
 "cells": [
  {
   "cell_type": "markdown",
   "metadata": {
    "nbpresent": {
     "id": "1d234e3f-af8b-4757-83f3-241b04b7a511"
    }
   },
   "source": [
    "# Class Challenge: Image Classification of COVID-19 X-rays\n",
    "# Task 2 [Total points: 30]"
   ]
  },
  {
   "cell_type": "markdown",
   "metadata": {
    "nbpresent": {
     "id": "b07b9992-b592-4871-9f9a-3b0ae5fa8b5f"
    }
   },
   "source": [
    "## Setup\n",
    "\n",
    "* This assignment involves the following packages: 'matplotlib', 'numpy', and 'sklearn'. \n",
    "\n",
    "* If you are using conda, use the following commands to install the above packages:<br>\n",
    "```shell\n",
    "conda install matplotlib\n",
    "conda install numpy\n",
    "conda install -c anaconda scikit-learn\n",
    "```\n",
    "\n",
    "* If you are using pip, use use the following commands to install the above packages: <br> \n",
    "```shell\n",
    "pip install matplotlib\n",
    "pip install numpy\n",
    "pip install sklearn\n",
    "```"
   ]
  },
  {
   "cell_type": "markdown",
   "metadata": {
    "nbpresent": {
     "id": "5516f610-f00c-43c3-bf19-4cf7ab9c089f"
    }
   },
   "source": [
    "## Data\n",
    "\n",
    "Please download the data using the following link: [COVID-19](https://drive.google.com/file/d/1Y88tgqpQ1Pjko_7rntcPowOJs_QNOrJ-/view). \n",
    "\n",
    "* After downloading 'Covid_Data_GradientCrescent.zip', unzip the file and you should see the following data structure:\n",
    "\n",
    "\n",
    "|--all<br>\n",
    "|--------train<br>\n",
    "|--------test<br>\n",
    "|--two<br>\n",
    "|--------train<br>\n",
    "|--------test<br>\n",
    "\n",
    "\n",
    "* Put the 'all' folder, the 'two' folder and this python notebook in the **same directory** so that the following code can correctly locate the data.  \n",
    "\n"
   ]
  },
  {
   "cell_type": "markdown",
   "metadata": {
    "nbpresent": {
     "id": "66140980-2aa4-457f-b1df-74c10c234cc2"
    }
   },
   "source": [
    "## [20 points] Multi-class Classification"
   ]
  },
  {
   "cell_type": "code",
   "execution_count": 28,
   "metadata": {
    "nbpresent": {
     "id": "5e05f980-3d14-4367-b3d1-664249145b13"
    },
    "scrolled": true
   },
   "outputs": [
    {
     "data": {
      "text/plain": [
       "'2.4.1'"
      ]
     },
     "execution_count": 28,
     "metadata": {},
     "output_type": "execute_result"
    }
   ],
   "source": [
    "import os\n",
    "\n",
    "import tensorflow as tf\n",
    "import numpy as np\n",
    "import matplotlib.pyplot as plt\n",
    "from tensorflow.keras.preprocessing.image import ImageDataGenerator\n",
    "\n",
    "os.environ['OMP_NUM_THREADS'] = '1'\n",
    "os.environ['CUDA_VISIBLE_DEVICES'] = '-1'\n",
    "tf.__version__"
   ]
  },
  {
   "cell_type": "code",
   "execution_count": 29,
   "metadata": {},
   "outputs": [
    {
     "data": {
      "text/plain": [
       "[PhysicalDevice(name='/physical_device:CPU:0', device_type='CPU')]"
      ]
     },
     "execution_count": 29,
     "metadata": {},
     "output_type": "execute_result"
    }
   ],
   "source": [
    "tf.config.list_physical_devices()"
   ]
  },
  {
   "cell_type": "markdown",
   "metadata": {
    "nbpresent": {
     "id": "66140980-2aa4-457f-b1df-74c10c234cc2"
    }
   },
   "source": [
    "#### Load Image Data"
   ]
  },
  {
   "cell_type": "code",
   "execution_count": 44,
   "metadata": {
    "nbpresent": {
     "id": "58317664-8da3-4283-b3e5-35721687e7ab"
    }
   },
   "outputs": [],
   "source": [
    "DATA_LIST = os.listdir('all/train')\n",
    "DATASET_PATH  = 'all/train'\n",
    "TEST_DIR =  'all/test'\n",
    "IMAGE_SIZE    = (224, 224)\n",
    "NUM_CLASSES   = len(DATA_LIST)\n",
    "BATCH_SIZE    = 10  # try reducing batch size or freeze more layers if your GPU runs out of memory\n",
    "NUM_EPOCHS    = 100\n",
    "LEARNING_RATE = 0.0001 # start off with high rate first 0.001 and experiment with reducing it gradually "
   ]
  },
  {
   "cell_type": "markdown",
   "metadata": {
    "nbpresent": {
     "id": "66140980-2aa4-457f-b1df-74c10c234cc2"
    }
   },
   "source": [
    "#### Generate Training and Validation Batches"
   ]
  },
  {
   "cell_type": "code",
   "execution_count": 31,
   "metadata": {
    "nbpresent": {
     "id": "71760e29-2b08-4259-93f1-ebe68cd74a6d"
    }
   },
   "outputs": [
    {
     "name": "stdout",
     "output_type": "stream",
     "text": [
      "Found 216 images belonging to 4 classes.\n",
      "Found 54 images belonging to 4 classes.\n"
     ]
    },
    {
     "name": "stderr",
     "output_type": "stream",
     "text": [
      "/share/pkg.7/tensorflow/2.4.1/install/lib/SCC/../python3.8/site-packages/keras_preprocessing/image/image_data_generator.py:342: UserWarning: This ImageDataGenerator specifies `zca_whitening` which overrides setting of`featurewise_std_normalization`.\n",
      "  warnings.warn('This ImageDataGenerator specifies '\n"
     ]
    }
   ],
   "source": [
    "train_datagen = ImageDataGenerator(rescale=1./255,rotation_range=50,featurewise_center = True,\n",
    "                                   featurewise_std_normalization = True,width_shift_range=0.2,\n",
    "                                   height_shift_range=0.2,shear_range=0.25,zoom_range=0.1,\n",
    "                                   zca_whitening = True,channel_shift_range = 20,\n",
    "                                   horizontal_flip = True,vertical_flip = True,\n",
    "                                   validation_split = 0.2,fill_mode='constant')\n",
    "\n",
    "\n",
    "train_batches = train_datagen.flow_from_directory(DATASET_PATH,target_size=IMAGE_SIZE,\n",
    "                                                  shuffle=True,batch_size=BATCH_SIZE,\n",
    "                                                  subset = \"training\",seed=42,\n",
    "                                                  class_mode=\"categorical\")\n",
    "\n",
    "valid_batches = train_datagen.flow_from_directory(DATASET_PATH,target_size=IMAGE_SIZE,\n",
    "                                                  shuffle=True,batch_size=BATCH_SIZE,\n",
    "                                                  subset = \"validation\",\n",
    "                                                  seed=42,class_mode=\"categorical\")"
   ]
  },
  {
   "cell_type": "markdown",
   "metadata": {
    "nbpresent": {
     "id": "66140980-2aa4-457f-b1df-74c10c234cc2"
    }
   },
   "source": [
    "#### [10 points] Build Model\n",
    "Hint: Starting from a pre-trained model typically helps performance on a new task, e.g. starting with weights obtained by training on ImageNet. "
   ]
  },
  {
   "cell_type": "code",
   "execution_count": 38,
   "metadata": {
    "nbpresent": {
     "id": "5c52eeb2-1092-4d45-9e16-02219c82cb5e"
    }
   },
   "outputs": [
    {
     "name": "stdout",
     "output_type": "stream",
     "text": [
      "Model: \"sequential_7\"\n",
      "_________________________________________________________________\n",
      "Layer (type)                 Output Shape              Param #   \n",
      "=================================================================\n",
      "vgg16 (Functional)           (None, 7, 7, 512)         14714688  \n",
      "_________________________________________________________________\n",
      "flatten_7 (Flatten)          (None, 25088)             0         \n",
      "_________________________________________________________________\n",
      "dropout_14 (Dropout)         (None, 25088)             0         \n",
      "_________________________________________________________________\n",
      "dense_21 (Dense)             (None, 2048)              51382272  \n",
      "_________________________________________________________________\n",
      "dropout_15 (Dropout)         (None, 2048)              0         \n",
      "_________________________________________________________________\n",
      "feature_dense (Dense)        (None, 256)               524544    \n",
      "_________________________________________________________________\n",
      "dense_22 (Dense)             (None, 4)                 1028      \n",
      "=================================================================\n",
      "Total params: 66,622,532\n",
      "Trainable params: 51,907,844\n",
      "Non-trainable params: 14,714,688\n",
      "_________________________________________________________________\n"
     ]
    }
   ],
   "source": [
    "#raise NotImplementedError(\"Build your model based on an architecture of your choice \"\n",
    "                          #\"A sample model summary is shown below\")\n",
    "    \n",
    "from tensorflow.keras.applications import VGG16\n",
    "from tensorflow.keras.layers import Flatten, Dense, Dropout\n",
    "from tensorflow.keras.models import Sequential\n",
    "\n",
    "vgg_16 = VGG16(weights='imagenet', include_top=False, input_shape=(224, 224, 3), pooling='None', classes=4)\n",
    "vgg_16.trainable = False\n",
    "\n",
    "model = Sequential()\n",
    "model.add(vgg_16)\n",
    "model.add(Flatten())\n",
    "model.add(Dropout(0.5))\n",
    "model.add(Dense(2048, activation='relu'))\n",
    "model.add(Dropout(0.4))\n",
    "model.add(Dense(256, activation='relu',name = 'feature_dense'))\n",
    "model.add(Dense(4, activation='softmax'))\n",
    "\n",
    "model.build(input_shape=(224, 224, 3))\n",
    "model.summary()\n",
    "\n",
    "model.compile(optimizer='adam', loss=tf.keras.losses.CategoricalCrossentropy(from_logits=False), metrics=['accuracy'])"
   ]
  },
  {
   "cell_type": "markdown",
   "metadata": {
    "nbpresent": {
     "id": "66140980-2aa4-457f-b1df-74c10c234cc2"
    }
   },
   "source": [
    "#### [5 points] Train Model"
   ]
  },
  {
   "cell_type": "code",
   "execution_count": 33,
   "metadata": {
    "nbpresent": {
     "id": "cdb90d24-6a23-4969-8138-f37e7050062d"
    },
    "scrolled": false
   },
   "outputs": [
    {
     "name": "stdout",
     "output_type": "stream",
     "text": [
      "22\n",
      "6\n",
      "Epoch 1/100\n",
      "21/21 [==============================] - 8s 362ms/step - loss: 5.5289 - accuracy: 0.2996 - val_loss: 2.4441 - val_accuracy: 0.1600\n",
      "Epoch 2/100\n",
      "21/21 [==============================] - 7s 329ms/step - loss: 2.3689 - accuracy: 0.3497 - val_loss: 1.8834 - val_accuracy: 0.2400\n",
      "Epoch 3/100\n",
      "21/21 [==============================] - 7s 343ms/step - loss: 2.3245 - accuracy: 0.3207 - val_loss: 1.1007 - val_accuracy: 0.4600\n",
      "Epoch 4/100\n",
      "21/21 [==============================] - 8s 360ms/step - loss: 1.5368 - accuracy: 0.3385 - val_loss: 0.9883 - val_accuracy: 0.5200\n",
      "Epoch 5/100\n",
      "21/21 [==============================] - 7s 339ms/step - loss: 1.4119 - accuracy: 0.3853 - val_loss: 0.9554 - val_accuracy: 0.5400\n",
      "Epoch 6/100\n",
      "21/21 [==============================] - 7s 339ms/step - loss: 1.1478 - accuracy: 0.5267 - val_loss: 1.0422 - val_accuracy: 0.5400\n",
      "Epoch 7/100\n",
      "21/21 [==============================] - 7s 337ms/step - loss: 1.3162 - accuracy: 0.4329 - val_loss: 0.9350 - val_accuracy: 0.5800\n",
      "Epoch 8/100\n",
      "21/21 [==============================] - 7s 349ms/step - loss: 1.0249 - accuracy: 0.5631 - val_loss: 0.8706 - val_accuracy: 0.6600\n",
      "Epoch 9/100\n",
      "21/21 [==============================] - 7s 340ms/step - loss: 1.2122 - accuracy: 0.4762 - val_loss: 0.9105 - val_accuracy: 0.6200\n",
      "Epoch 10/100\n",
      "21/21 [==============================] - 7s 340ms/step - loss: 1.1258 - accuracy: 0.5360 - val_loss: 0.7953 - val_accuracy: 0.7000\n",
      "Epoch 11/100\n",
      "21/21 [==============================] - 7s 331ms/step - loss: 0.9871 - accuracy: 0.5964 - val_loss: 0.8288 - val_accuracy: 0.5400\n",
      "Epoch 12/100\n",
      "21/21 [==============================] - 7s 347ms/step - loss: 1.0173 - accuracy: 0.5921 - val_loss: 0.9634 - val_accuracy: 0.5200\n",
      "Epoch 13/100\n",
      "21/21 [==============================] - 8s 351ms/step - loss: 0.9540 - accuracy: 0.5600 - val_loss: 0.8849 - val_accuracy: 0.5600\n",
      "Epoch 14/100\n",
      "21/21 [==============================] - 8s 353ms/step - loss: 1.0862 - accuracy: 0.5809 - val_loss: 0.8604 - val_accuracy: 0.5800\n",
      "Epoch 15/100\n",
      "21/21 [==============================] - 7s 348ms/step - loss: 0.8777 - accuracy: 0.6292 - val_loss: 0.9580 - val_accuracy: 0.4800\n",
      "Epoch 16/100\n",
      "21/21 [==============================] - 7s 347ms/step - loss: 1.0291 - accuracy: 0.5099 - val_loss: 0.9431 - val_accuracy: 0.5600\n",
      "Epoch 17/100\n",
      "21/21 [==============================] - 7s 350ms/step - loss: 1.0522 - accuracy: 0.5849 - val_loss: 0.8866 - val_accuracy: 0.6800\n",
      "Epoch 18/100\n",
      "21/21 [==============================] - 7s 337ms/step - loss: 0.8628 - accuracy: 0.6295 - val_loss: 0.9471 - val_accuracy: 0.5200\n",
      "Epoch 19/100\n",
      "21/21 [==============================] - 7s 341ms/step - loss: 0.9226 - accuracy: 0.6419 - val_loss: 0.7472 - val_accuracy: 0.6000\n",
      "Epoch 20/100\n",
      "21/21 [==============================] - 8s 352ms/step - loss: 0.9121 - accuracy: 0.5126 - val_loss: 0.7576 - val_accuracy: 0.6000\n",
      "Epoch 21/100\n",
      "21/21 [==============================] - 7s 347ms/step - loss: 0.8280 - accuracy: 0.6192 - val_loss: 0.5993 - val_accuracy: 0.7000\n",
      "Epoch 22/100\n",
      "21/21 [==============================] - 7s 349ms/step - loss: 0.8393 - accuracy: 0.6350 - val_loss: 0.7041 - val_accuracy: 0.6600\n",
      "Epoch 23/100\n",
      "21/21 [==============================] - 7s 343ms/step - loss: 0.8245 - accuracy: 0.6353 - val_loss: 0.7304 - val_accuracy: 0.6400\n",
      "Epoch 24/100\n",
      "21/21 [==============================] - 7s 347ms/step - loss: 0.8021 - accuracy: 0.6418 - val_loss: 0.8034 - val_accuracy: 0.6200\n",
      "Epoch 25/100\n",
      "21/21 [==============================] - 7s 350ms/step - loss: 0.8631 - accuracy: 0.6083 - val_loss: 0.7246 - val_accuracy: 0.6800\n",
      "Epoch 26/100\n",
      "21/21 [==============================] - 7s 347ms/step - loss: 0.8957 - accuracy: 0.6200 - val_loss: 0.7518 - val_accuracy: 0.5600\n",
      "Epoch 27/100\n",
      "21/21 [==============================] - 7s 347ms/step - loss: 0.9661 - accuracy: 0.5135 - val_loss: 0.6884 - val_accuracy: 0.6800\n",
      "Epoch 28/100\n",
      "21/21 [==============================] - 7s 334ms/step - loss: 0.7890 - accuracy: 0.6354 - val_loss: 0.6112 - val_accuracy: 0.7200\n",
      "Epoch 29/100\n",
      "21/21 [==============================] - 7s 337ms/step - loss: 0.9175 - accuracy: 0.6254 - val_loss: 0.7363 - val_accuracy: 0.7000\n",
      "Epoch 30/100\n",
      "21/21 [==============================] - 8s 368ms/step - loss: 0.8056 - accuracy: 0.6467 - val_loss: 0.8612 - val_accuracy: 0.6200\n",
      "Epoch 31/100\n",
      "21/21 [==============================] - 7s 342ms/step - loss: 0.7980 - accuracy: 0.6399 - val_loss: 0.7960 - val_accuracy: 0.6600\n",
      "Epoch 32/100\n",
      "21/21 [==============================] - 7s 331ms/step - loss: 0.8468 - accuracy: 0.6247 - val_loss: 0.7995 - val_accuracy: 0.6000\n",
      "Epoch 33/100\n",
      "21/21 [==============================] - 7s 341ms/step - loss: 1.0198 - accuracy: 0.6195 - val_loss: 0.7594 - val_accuracy: 0.5600\n",
      "Epoch 34/100\n",
      "21/21 [==============================] - 7s 336ms/step - loss: 0.7991 - accuracy: 0.6651 - val_loss: 0.7028 - val_accuracy: 0.6000\n",
      "Epoch 35/100\n",
      "21/21 [==============================] - 7s 341ms/step - loss: 0.9302 - accuracy: 0.5800 - val_loss: 0.6436 - val_accuracy: 0.7000\n",
      "Epoch 36/100\n",
      "21/21 [==============================] - 7s 348ms/step - loss: 0.8047 - accuracy: 0.6232 - val_loss: 0.6678 - val_accuracy: 0.7000\n",
      "Epoch 37/100\n",
      "21/21 [==============================] - 7s 342ms/step - loss: 0.8269 - accuracy: 0.6354 - val_loss: 0.6544 - val_accuracy: 0.7000\n",
      "Epoch 38/100\n",
      "21/21 [==============================] - 7s 340ms/step - loss: 0.7530 - accuracy: 0.6849 - val_loss: 0.7559 - val_accuracy: 0.6600\n",
      "Epoch 39/100\n",
      "21/21 [==============================] - 7s 330ms/step - loss: 0.9619 - accuracy: 0.5734 - val_loss: 0.7620 - val_accuracy: 0.5600\n",
      "Epoch 40/100\n",
      "21/21 [==============================] - 7s 333ms/step - loss: 0.7733 - accuracy: 0.5996 - val_loss: 0.6469 - val_accuracy: 0.7000\n",
      "Epoch 41/100\n",
      "21/21 [==============================] - 7s 335ms/step - loss: 0.9669 - accuracy: 0.5096 - val_loss: 0.6960 - val_accuracy: 0.6400\n",
      "Epoch 42/100\n",
      "21/21 [==============================] - 7s 334ms/step - loss: 0.6987 - accuracy: 0.6752 - val_loss: 0.6994 - val_accuracy: 0.6600\n",
      "Epoch 43/100\n",
      "21/21 [==============================] - 8s 355ms/step - loss: 0.8089 - accuracy: 0.6524 - val_loss: 0.5807 - val_accuracy: 0.7400\n",
      "Epoch 44/100\n",
      "21/21 [==============================] - 8s 364ms/step - loss: 0.8167 - accuracy: 0.6384 - val_loss: 0.6952 - val_accuracy: 0.6800\n",
      "Epoch 45/100\n",
      "21/21 [==============================] - 8s 366ms/step - loss: 0.6988 - accuracy: 0.6906 - val_loss: 0.7193 - val_accuracy: 0.6200\n",
      "Epoch 46/100\n",
      "21/21 [==============================] - 8s 378ms/step - loss: 0.6941 - accuracy: 0.7122 - val_loss: 0.6592 - val_accuracy: 0.7000\n",
      "Epoch 47/100\n",
      "21/21 [==============================] - 8s 380ms/step - loss: 0.8495 - accuracy: 0.6431 - val_loss: 0.8791 - val_accuracy: 0.6400\n",
      "Epoch 48/100\n",
      "21/21 [==============================] - 8s 383ms/step - loss: 0.9037 - accuracy: 0.6645 - val_loss: 0.6195 - val_accuracy: 0.7200\n",
      "Epoch 49/100\n",
      "21/21 [==============================] - 8s 391ms/step - loss: 0.7257 - accuracy: 0.7341 - val_loss: 0.6447 - val_accuracy: 0.7200\n",
      "Epoch 50/100\n",
      "21/21 [==============================] - 8s 382ms/step - loss: 0.7314 - accuracy: 0.6834 - val_loss: 0.6133 - val_accuracy: 0.6800\n",
      "Epoch 51/100\n",
      "21/21 [==============================] - 8s 385ms/step - loss: 0.8750 - accuracy: 0.5942 - val_loss: 0.7035 - val_accuracy: 0.6200\n",
      "Epoch 52/100\n",
      "21/21 [==============================] - 8s 383ms/step - loss: 0.7416 - accuracy: 0.6998 - val_loss: 0.7499 - val_accuracy: 0.5800\n",
      "Epoch 53/100\n",
      "21/21 [==============================] - 8s 393ms/step - loss: 0.7287 - accuracy: 0.7311 - val_loss: 0.7079 - val_accuracy: 0.6600\n",
      "Epoch 54/100\n",
      "21/21 [==============================] - 8s 393ms/step - loss: 0.6766 - accuracy: 0.7040 - val_loss: 0.7257 - val_accuracy: 0.6800\n",
      "Epoch 55/100\n",
      "21/21 [==============================] - 8s 384ms/step - loss: 0.7524 - accuracy: 0.6759 - val_loss: 0.7495 - val_accuracy: 0.6600\n",
      "Epoch 56/100\n",
      "21/21 [==============================] - 9s 409ms/step - loss: 0.8238 - accuracy: 0.6542 - val_loss: 0.6854 - val_accuracy: 0.6400\n",
      "Epoch 57/100\n",
      "21/21 [==============================] - 9s 412ms/step - loss: 0.7270 - accuracy: 0.6683 - val_loss: 0.7025 - val_accuracy: 0.7000\n"
     ]
    },
    {
     "name": "stdout",
     "output_type": "stream",
     "text": [
      "Epoch 58/100\n",
      "21/21 [==============================] - 9s 400ms/step - loss: 0.7801 - accuracy: 0.6202 - val_loss: 0.6373 - val_accuracy: 0.7000\n",
      "Epoch 59/100\n",
      "21/21 [==============================] - 9s 414ms/step - loss: 0.7982 - accuracy: 0.6848 - val_loss: 0.6387 - val_accuracy: 0.7000\n",
      "Epoch 60/100\n",
      "21/21 [==============================] - 9s 409ms/step - loss: 0.7126 - accuracy: 0.7205 - val_loss: 0.7198 - val_accuracy: 0.6600\n",
      "Epoch 61/100\n",
      "21/21 [==============================] - 9s 404ms/step - loss: 0.8441 - accuracy: 0.5821 - val_loss: 0.7175 - val_accuracy: 0.6600\n",
      "Epoch 62/100\n",
      "21/21 [==============================] - 9s 408ms/step - loss: 0.6499 - accuracy: 0.6965 - val_loss: 0.6187 - val_accuracy: 0.7000\n",
      "Epoch 63/100\n",
      "21/21 [==============================] - 8s 397ms/step - loss: 0.8465 - accuracy: 0.6814 - val_loss: 0.5968 - val_accuracy: 0.7200\n",
      "Epoch 64/100\n",
      "21/21 [==============================] - 9s 403ms/step - loss: 0.7843 - accuracy: 0.5947 - val_loss: 0.7185 - val_accuracy: 0.6000\n",
      "Epoch 65/100\n",
      "21/21 [==============================] - 9s 405ms/step - loss: 0.8247 - accuracy: 0.6105 - val_loss: 0.7921 - val_accuracy: 0.5800\n",
      "Epoch 66/100\n",
      "21/21 [==============================] - 8s 389ms/step - loss: 0.7543 - accuracy: 0.6284 - val_loss: 0.6433 - val_accuracy: 0.7000\n",
      "Epoch 67/100\n",
      "21/21 [==============================] - 8s 393ms/step - loss: 0.8058 - accuracy: 0.6719 - val_loss: 0.6525 - val_accuracy: 0.6200\n",
      "Epoch 68/100\n",
      "21/21 [==============================] - 9s 398ms/step - loss: 0.6601 - accuracy: 0.7063 - val_loss: 0.6158 - val_accuracy: 0.7400\n",
      "Epoch 69/100\n",
      "21/21 [==============================] - 8s 392ms/step - loss: 0.7421 - accuracy: 0.6578 - val_loss: 0.5485 - val_accuracy: 0.7000\n",
      "Epoch 70/100\n",
      "21/21 [==============================] - 8s 391ms/step - loss: 0.6953 - accuracy: 0.6841 - val_loss: 0.5860 - val_accuracy: 0.7600\n",
      "Epoch 71/100\n",
      "21/21 [==============================] - 8s 398ms/step - loss: 0.8722 - accuracy: 0.6719 - val_loss: 0.5609 - val_accuracy: 0.7200\n",
      "Epoch 72/100\n",
      "21/21 [==============================] - 9s 421ms/step - loss: 0.7420 - accuracy: 0.6800 - val_loss: 0.6833 - val_accuracy: 0.6400\n",
      "Epoch 73/100\n",
      "21/21 [==============================] - 9s 404ms/step - loss: 0.6526 - accuracy: 0.6885 - val_loss: 0.6045 - val_accuracy: 0.7600\n",
      "Epoch 74/100\n",
      "21/21 [==============================] - 9s 403ms/step - loss: 0.7053 - accuracy: 0.7003 - val_loss: 0.6270 - val_accuracy: 0.6400\n",
      "Epoch 75/100\n",
      "21/21 [==============================] - 8s 388ms/step - loss: 0.6999 - accuracy: 0.7094 - val_loss: 0.6630 - val_accuracy: 0.7000\n",
      "Epoch 76/100\n",
      "21/21 [==============================] - 9s 398ms/step - loss: 0.7494 - accuracy: 0.6228 - val_loss: 0.6238 - val_accuracy: 0.7000\n",
      "Epoch 77/100\n",
      "21/21 [==============================] - 9s 399ms/step - loss: 0.7173 - accuracy: 0.6690 - val_loss: 0.6956 - val_accuracy: 0.5800\n",
      "Epoch 78/100\n",
      "21/21 [==============================] - 8s 398ms/step - loss: 0.6264 - accuracy: 0.7425 - val_loss: 0.6699 - val_accuracy: 0.6600\n",
      "Epoch 79/100\n",
      "21/21 [==============================] - 9s 408ms/step - loss: 0.7418 - accuracy: 0.6898 - val_loss: 0.7378 - val_accuracy: 0.6400\n",
      "Epoch 80/100\n",
      "21/21 [==============================] - 9s 405ms/step - loss: 0.6363 - accuracy: 0.7352 - val_loss: 0.5646 - val_accuracy: 0.7400\n",
      "Epoch 81/100\n",
      "21/21 [==============================] - 9s 419ms/step - loss: 0.6056 - accuracy: 0.7509 - val_loss: 0.5505 - val_accuracy: 0.7400\n",
      "Epoch 82/100\n",
      "21/21 [==============================] - 9s 409ms/step - loss: 0.7282 - accuracy: 0.6713 - val_loss: 0.7427 - val_accuracy: 0.6800\n",
      "Epoch 83/100\n",
      "21/21 [==============================] - 9s 403ms/step - loss: 0.6910 - accuracy: 0.7119 - val_loss: 0.6649 - val_accuracy: 0.7000\n",
      "Epoch 84/100\n",
      "21/21 [==============================] - 9s 418ms/step - loss: 0.6391 - accuracy: 0.7104 - val_loss: 0.6338 - val_accuracy: 0.6800\n",
      "Epoch 85/100\n",
      "21/21 [==============================] - 9s 414ms/step - loss: 0.7619 - accuracy: 0.6844 - val_loss: 0.5777 - val_accuracy: 0.7600\n",
      "Epoch 86/100\n",
      "21/21 [==============================] - 8s 397ms/step - loss: 0.6452 - accuracy: 0.6902 - val_loss: 0.6418 - val_accuracy: 0.6400\n",
      "Epoch 87/100\n",
      "21/21 [==============================] - 9s 399ms/step - loss: 0.5717 - accuracy: 0.7695 - val_loss: 0.6275 - val_accuracy: 0.6400\n",
      "Epoch 88/100\n",
      "21/21 [==============================] - 8s 390ms/step - loss: 0.6351 - accuracy: 0.7468 - val_loss: 0.6053 - val_accuracy: 0.6800\n",
      "Epoch 89/100\n",
      "21/21 [==============================] - 8s 392ms/step - loss: 0.7073 - accuracy: 0.7260 - val_loss: 0.6489 - val_accuracy: 0.7000\n",
      "Epoch 90/100\n",
      "21/21 [==============================] - 8s 383ms/step - loss: 0.6957 - accuracy: 0.6391 - val_loss: 0.6304 - val_accuracy: 0.6800\n",
      "Epoch 91/100\n",
      "21/21 [==============================] - 8s 389ms/step - loss: 0.7559 - accuracy: 0.7014 - val_loss: 0.7522 - val_accuracy: 0.6200\n",
      "Epoch 92/100\n",
      "21/21 [==============================] - 8s 389ms/step - loss: 0.7027 - accuracy: 0.7299 - val_loss: 0.6657 - val_accuracy: 0.6400\n",
      "Epoch 93/100\n",
      "21/21 [==============================] - 8s 394ms/step - loss: 0.7818 - accuracy: 0.6901 - val_loss: 0.7779 - val_accuracy: 0.6200\n",
      "Epoch 94/100\n",
      "21/21 [==============================] - 8s 388ms/step - loss: 0.7837 - accuracy: 0.7115 - val_loss: 0.7151 - val_accuracy: 0.6800\n",
      "Epoch 95/100\n",
      "21/21 [==============================] - 9s 403ms/step - loss: 0.8433 - accuracy: 0.6566 - val_loss: 0.7467 - val_accuracy: 0.6400\n",
      "Epoch 96/100\n",
      "21/21 [==============================] - 8s 393ms/step - loss: 0.7000 - accuracy: 0.6804 - val_loss: 0.5370 - val_accuracy: 0.7600\n",
      "Epoch 97/100\n",
      "21/21 [==============================] - 8s 387ms/step - loss: 0.6875 - accuracy: 0.7148 - val_loss: 0.5816 - val_accuracy: 0.6800\n",
      "Epoch 98/100\n",
      "21/21 [==============================] - 8s 388ms/step - loss: 0.7375 - accuracy: 0.6877 - val_loss: 0.6992 - val_accuracy: 0.6400\n",
      "Epoch 99/100\n",
      "21/21 [==============================] - 8s 393ms/step - loss: 0.6883 - accuracy: 0.7307 - val_loss: 0.6092 - val_accuracy: 0.6800\n",
      "Epoch 100/100\n",
      "21/21 [==============================] - 9s 404ms/step - loss: 0.7142 - accuracy: 0.7101 - val_loss: 0.6797 - val_accuracy: 0.7200\n"
     ]
    }
   ],
   "source": [
    "#FIT MODEL\n",
    "print(len(train_batches))\n",
    "print(len(valid_batches))\n",
    "\n",
    "STEP_SIZE_TRAIN=train_batches.n//train_batches.batch_size\n",
    "STEP_SIZE_VALID=valid_batches.n//valid_batches.batch_size\n",
    "\n",
    "#raise NotImplementedError(\"Use the model.fit function to train your network\")\n",
    "\n",
    "history = model.fit(train_batches, epochs = NUM_EPOCHS, validation_data = valid_batches,\n",
    "                              steps_per_epoch = STEP_SIZE_TRAIN,\n",
    "                              validation_steps = STEP_SIZE_VALID)"
   ]
  },
  {
   "cell_type": "markdown",
   "metadata": {
    "nbpresent": {
     "id": "66140980-2aa4-457f-b1df-74c10c234cc2"
    }
   },
   "source": [
    "#### [5 points] Plot Accuracy and Loss During Training"
   ]
  },
  {
   "cell_type": "code",
   "execution_count": 34,
   "metadata": {
    "nbpresent": {
     "id": "ff342098-784a-4e20-ac34-b74ca8ebe839"
    }
   },
   "outputs": [
    {
     "data": {
      "image/png": "[encoded data removed]",
      "text/plain": [
       "<Figure size 432x288 with 1 Axes>"
      ]
     },
     "metadata": {
      "needs_background": "light"
     },
     "output_type": "display_data"
    },
    {
     "data": {
      "image/png": "[encoded data removed]",
      "text/plain": [
       "<Figure size 432x288 with 1 Axes>"
      ]
     },
     "metadata": {
      "needs_background": "light"
     },
     "output_type": "display_data"
    }
   ],
   "source": [
    "import matplotlib.pyplot as plt\n",
    "\n",
    "#raise NotImplementedError(\"Plot the accuracy and the loss during training\")\n",
    "\n",
    "#Accuracy\n",
    "plt.plot(history.history['accuracy'], label = 'accuracy')\n",
    "plt.plot(history.history['val_accuracy'], label = 'validation accuracy')\n",
    "plt.title('accuracy over 40 Epochs')\n",
    "plt.ylabel('Accuracy')\n",
    "plt.xlabel('Epoch')\n",
    "plt.show()\n",
    "\n",
    "#Loss\n",
    "plt.plot(history.history['loss'], label = \"loss\")\n",
    "plt.plot(history.history['val_loss'], label = \"validation loss\")\n",
    "plt.title('loss over 40 Epochs')\n",
    "plt.ylabel('Loss')\n",
    "plt.xlabel('Epoch')\n",
    "plt.show()"
   ]
  },
  {
   "cell_type": "markdown",
   "metadata": {
    "nbpresent": {
     "id": "66140980-2aa4-457f-b1df-74c10c234cc2"
    }
   },
   "source": [
    "#### Testing Model"
   ]
  },
  {
   "cell_type": "code",
   "execution_count": 35,
   "metadata": {},
   "outputs": [
    {
     "name": "stdout",
     "output_type": "stream",
     "text": [
      "Found 36 images belonging to 4 classes.\n",
      "36\n",
      "36/36 [==============================] - 2s 66ms/step - loss: 0.7948 - accuracy: 0.7500\n",
      "Test loss: 0.7948353290557861\n",
      "Test accuracy: 0.75\n"
     ]
    }
   ],
   "source": [
    "test_datagen = ImageDataGenerator(rescale=1. / 255)\n",
    "\n",
    "eval_generator = test_datagen.flow_from_directory(TEST_DIR,target_size=IMAGE_SIZE,\n",
    "                                                  batch_size=1,shuffle=True,seed=42,class_mode=\"categorical\")\n",
    "eval_generator.reset()\n",
    "print(len(eval_generator))\n",
    "x = model.evaluate_generator(eval_generator,steps = np.ceil(len(eval_generator)),\n",
    "                           use_multiprocessing = False,verbose = 1,workers=1)\n",
    "print('Test loss:' , x[0])\n",
    "print('Test accuracy:',x[1])"
   ]
  },
  {
   "cell_type": "markdown",
   "metadata": {
    "nbpresent": {
     "id": "66140980-2aa4-457f-b1df-74c10c234cc2"
    }
   },
   "source": [
    "## [10 points] TSNE Plot\n",
    "t-Distributed Stochastic Neighbor Embedding (t-SNE) is a widely used technique for dimensionality reduction that is particularly well suited for the visualization of high-dimensional datasets. After training is complete, extract features from a specific deep layer of your choice, use t-SNE to reduce the dimensionality of your extracted features to 2 dimensions and plot the resulting 2D features."
   ]
  },
  {
   "cell_type": "code",
   "execution_count": 45,
   "metadata": {},
   "outputs": [
    {
     "name": "stdout",
     "output_type": "stream",
     "text": [
      "Found 270 images belonging to 4 classes.\n"
     ]
    },
    {
     "name": "stderr",
     "output_type": "stream",
     "text": [
      "/share/pkg.7/tensorflow/2.4.1/install/lib/SCC/../python3.8/site-packages/tensorflow/python/keras/engine/training.py:1905: UserWarning: `Model.predict_generator` is deprecated and will be removed in a future version. Please use `Model.predict`, which supports generators.\n",
      "  warnings.warn('`Model.predict_generator` is deprecated and '\n"
     ]
    },
    {
     "name": "stdout",
     "output_type": "stream",
     "text": [
      "270/270 [==============================] - 14s 52ms/step\n",
      "(270, 256)\n",
      "(270, 2)\n"
     ]
    },
    {
     "data": {
      "text/plain": [
       "<matplotlib.legend.Legend at 0x2b09babc6c70>"
      ]
     },
     "execution_count": 45,
     "metadata": {},
     "output_type": "execute_result"
    },
    {
     "data": {
      "image/png": "[encoded data removed]",
      "text/plain": [
       "<Figure size 432x288 with 1 Axes>"
      ]
     },
     "metadata": {
      "needs_background": "light"
     },
     "output_type": "display_data"
    }
   ],
   "source": [
    "from sklearn.manifold import TSNE\n",
    "\n",
    "intermediate_layer_model = tf.keras.models.Model(inputs=model.input,\n",
    "                                        outputs=model.get_layer('feature_dense').output)\n",
    "\n",
    "tsne_eval_generator = test_datagen.flow_from_directory(DATASET_PATH,target_size=IMAGE_SIZE,\n",
    "                                                  batch_size=1,shuffle=False,seed=42,class_mode=\"categorical\")\n",
    "\n",
    "#raise NotImplementedError(\"Extract features from the tsne_data_generator and fit a t-SNE model for the features,\"\n",
    "                          #\"and plot the resulting 2D features of the four classes.\")\n",
    "    \n",
    "pred = intermediate_layer_model.predict_generator(tsne_eval_generator,270,verbose=1)\n",
    "print(pred.shape)\n",
    "features = TSNE(n_components=2).fit_transform(pred)\n",
    "print(features.shape)\n",
    "\n",
    "x1,x2,x3,x4,y1,y2,y3,y4 = [],[],[],[],[],[],[],[]\n",
    "cls = tsne_eval_generator.classes\n",
    "for i in range(len(features)):\n",
    "    if cls[i] == 0: #covid19\n",
    "        x1.append(features[i, 0])\n",
    "        y1.append(features[i, 1])    \n",
    "    elif cls[i] == 1: #norm\n",
    "        x2.append(features[i, 0])\n",
    "        y2.append(features[i, 1]) \n",
    "    elif cls[i] == 2: #bac\n",
    "        x3.append(features[i, 0])\n",
    "        y3.append(features[i, 1])\n",
    "    else: #vir\n",
    "        x4.append(features[i, 0])\n",
    "        y4.append(features[i, 1])\n",
    "\n",
    "plt.figure()\n",
    "plt.plot(x1, y1, 'ro', label=\"COVID-19\")\n",
    "plt.plot(x2, y2, 'bo', label=\"Normal\")\n",
    "plt.plot(x3, y3, 'yo', label=\"Pneumonia_ba\")\n",
    "plt.plot(x4, y4, 'go', label=\"Pneumonia_vir\")\n",
    "plt.legend(loc='lower right')"
   ]
  },
  {
   "cell_type": "markdown",
   "metadata": {},
   "source": [
    "<!-- ## Task 2: COVID-19 vs Normal vs Tertiary Pneumonia (Bacterial and Viral) -->"
   ]
  },
  {
   "cell_type": "markdown",
   "metadata": {
    "nbpresent": {
     "id": "66140980-2aa4-457f-b1df-74c10c234cc2"
    }
   },
   "source": [
    "<!-- #### Renew Training Batch and Validation Batch -->"
   ]
  },
  {
   "cell_type": "markdown",
   "metadata": {
    "nbpresent": {
     "id": "66140980-2aa4-457f-b1df-74c10c234cc2"
    }
   },
   "source": [
    "<!-- #### Renew Model -->"
   ]
  }
 ],
 "metadata": {
  "kernelspec": {
   "display_name": "Python 3",
   "language": "python",
   "name": "python3"
  },
  "language_info": {
   "codemirror_mode": {
    "name": "ipython",
    "version": 3
   },
   "file_extension": ".py",
   "mimetype": "text/x-python",
   "name": "python",
   "nbconvert_exporter": "python",
   "pygments_lexer": "ipython3",
   "version": "3.8.8"
  },
  "latex_envs": {
   "LaTeX_envs_menu_present": true,
   "autoclose": false,
   "autocomplete": true,
   "bibliofile": "biblio.bib",
   "cite_by": "apalike",
   "current_citInitial": 1,
   "eqLabelWithNumbers": true,
   "eqNumInitial": 1,
   "hotkeys": {
    "equation": "Ctrl-E",
    "itemize": "Ctrl-I"
   },
   "labels_anchors": false,
   "latex_user_defs": false,
   "report_style_numbering": false,
   "user_envs_cfg": false
  },
  "toc": {
   "base_numbering": 1,
   "nav_menu": {},
   "number_sections": true,
   "sideBar": true,
   "skip_h1_title": false,
   "title_cell": "Table of Contents",
   "title_sidebar": "Contents",
   "toc_cell": false,
   "toc_position": {},
   "toc_section_display": true,
   "toc_window_display": false
  },
  "varInspector": {
   "cols": {
    "lenName": 16,
    "lenType": 16,
    "lenVar": 40
   },
   "kernels_config": {
    "python": {
     "delete_cmd_postfix": "",
     "delete_cmd_prefix": "del ",
     "library": "var_list.py",
     "varRefreshCmd": "print(var_dic_list())"
    },
    "r": {
     "delete_cmd_postfix": ") ",
     "delete_cmd_prefix": "rm(",
     "library": "var_list.r",
     "varRefreshCmd": "cat(var_dic_list()) "
    }
   },
   "types_to_exclude": [
    "module",
    "function",
    "builtin_function_or_method",
    "instance",
    "_Feature"
   ],
   "window_display": false
  }
 },
 "nbformat": 4,
 "nbformat_minor": 4
}
